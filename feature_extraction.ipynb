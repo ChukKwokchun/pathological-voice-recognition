{
 "cells": [
  {
   "cell_type": "code",
   "execution_count": 1,
   "metadata": {
    "colab": {},
    "colab_type": "code",
    "id": "tT8VyV4gThU6"
   },
   "outputs": [
    {
     "name": "stderr",
     "output_type": "stream",
     "text": [
      "<frozen importlib._bootstrap>:219: RuntimeWarning: scipy._lib.messagestream.MessageStream size changed, may indicate binary incompatibility. Expected 56 from C header, got 64 from PyObject\n"
     ]
    }
   ],
   "source": [
    "import pandas as pd\n",
    "import numpy as np\n",
    "\n",
    "import tarfile\n",
    "import os\n",
    "import csv\n",
    "\n",
    "import librosa\n",
    "import librosa.display"
   ]
  },
  {
   "cell_type": "code",
   "execution_count": 2,
   "metadata": {
    "colab": {
     "base_uri": "https://localhost:8080/",
     "height": 85
    },
    "colab_type": "code",
    "id": "Vc9kF-4nZSO5",
    "outputId": "851fb924-be55-4eb6-9d69-b57c6135dcf0"
   },
   "outputs": [
    {
     "data": {
      "text/plain": [
       "(array([-1.5258789e-04, -1.2207031e-04, -1.5258789e-04, ...,\n",
       "         9.1552734e-05,  0.0000000e+00, -9.1552734e-05], dtype=float32),\n",
       " (90028,),\n",
       " 22050)"
      ]
     },
     "execution_count": 2,
     "metadata": {},
     "output_type": "execute_result"
    }
   ],
   "source": [
    "data, sampling_rate = librosa.load('./data/Healthy/a_0016.wav')\n",
    "data, data.shape, sampling_rate"
   ]
  },
  {
   "cell_type": "code",
   "execution_count": 3,
   "metadata": {
    "colab": {
     "base_uri": "https://localhost:8080/",
     "height": 544
    },
    "colab_type": "code",
    "id": "U_oTjgQ0WGZJ",
    "outputId": "21b134fe-1997-4d87-d166-75a0ecb35730"
   },
   "outputs": [
    {
     "name": "stdout",
     "output_type": "stream",
     "text": [
      "Healthy :  161\n",
      "Pathological :  166\n"
     ]
    }
   ],
   "source": [
    "for x in os.listdir('./data'):\n",
    "    if os.path.isdir('./data/'+x):\n",
    "        print(x, \": \", len(os.listdir('./data/'+x)))"
   ]
  },
  {
   "cell_type": "code",
   "execution_count": 4,
   "metadata": {
    "colab": {},
    "colab_type": "code",
    "id": "eEW3Xhyg7_pP"
   },
   "outputs": [],
   "source": [
    "d = {}\n",
    "digit = ['Healthy', 'Pathological']\n",
    "with open(\"Spoken_digit.csv\", 'w') as csvfile:\n",
    "    csvwriter = csv.writer(csvfile)\n",
    "    csvwriter.writerow([\"File\", \"Label\"])\n",
    "    for x in digit:\n",
    "        if os.path.isdir('./data/'+x):\n",
    "            d[x] = os.listdir('./data/'+x)\n",
    "            for name in os.listdir('./data/'+x):\n",
    "                if os.path.isfile('./data/'+x+\"/\"+name):\n",
    "                    csvwriter.writerow([x+'/'+name, x])\n",
    "\n",
    "#shuffle \n",
    "df = pd.read_csv('Spoken_digit.csv')\n",
    "df = df.sample(frac=1)\n",
    "df.to_csv('Spoken_digit.csv', index = False)"
   ]
  },
  {
   "cell_type": "code",
   "execution_count": 5,
   "metadata": {
    "colab": {},
    "colab_type": "code",
    "id": "4RXi6OTQS14m"
   },
   "outputs": [],
   "source": [
    "sp = pd.read_csv(\"Spoken_digit.csv\")"
   ]
  },
  {
   "cell_type": "markdown",
   "metadata": {},
   "source": [
    "### MFCC"
   ]
  },
  {
   "cell_type": "code",
   "execution_count": 6,
   "metadata": {
    "colab": {},
    "colab_type": "code",
    "id": "LERXPd0gEhA6"
   },
   "outputs": [
    {
     "data": {
      "text/plain": [
       "37"
      ]
     },
     "execution_count": 6,
     "metadata": {},
     "output_type": "execute_result"
    }
   ],
   "source": [
    "csvfile = open(\"feature_MFCC.csv\", \"w\")\n",
    "csvwriter = csv.writer(csvfile)\n",
    "csvwriter.writerow(np.concatenate((['Label'], [i for i in range(1, 14)])))"
   ]
  },
  {
   "cell_type": "code",
   "execution_count": 7,
   "metadata": {
    "colab": {},
    "colab_type": "code",
    "id": "sTIqMXv-MIhO"
   },
   "outputs": [],
   "source": [
    "def extract_MFCCfeatures(files):\n",
    "    data, sr = librosa.load('./data/'+files.File)\n",
    "#     mfccs = np.mean(librosa.feature.mfcc(y = data, sr = sr, n_mfcc = 13).T, axis = 0)\n",
    "#     stft = np.abs(librosa.stft(data))\n",
    "#     chroma = np.mean(librosa.feature.chroma_stft(S = stft, sr = sr).T, axis = 0)\n",
    "#     mel = np.mean(librosa.feature.melspectrogram(data, sr).T, axis = 0)\n",
    "#     contrast = np.mean(librosa.feature.spectral_contrast(S = stft, sr = sr).T, axis = 0)\n",
    "#     tonnetz = np.mean(librosa.feature.tonnetz(y = librosa.effects.harmonic(data), sr = sr).T, axis = 0)\n",
    "#     row =  np.concatenate((mfccs, chroma, mel, contrast, tonnetz), axis = 0).astype('float32')\n",
    "#     csvwriter.writerow(np.concatenate(([digit.index(files.Label)], row)))\n",
    "    mean_mfccs = np.mean(librosa.feature.mfcc(y = data, sr = sr, n_mfcc = 13).T, axis = 0)\n",
    "    csvwriter.writerow(np.concatenate(([digit.index(files.Label)], mean_mfccs)))"
   ]
  },
  {
   "cell_type": "code",
   "execution_count": 8,
   "metadata": {
    "colab": {},
    "colab_type": "code",
    "id": "XJepGaY3Sw37"
   },
   "outputs": [
    {
     "data": {
      "text/plain": [
       "0      None\n",
       "1      None\n",
       "2      None\n",
       "3      None\n",
       "4      None\n",
       "       ... \n",
       "322    None\n",
       "323    None\n",
       "324    None\n",
       "325    None\n",
       "326    None\n",
       "Length: 327, dtype: object"
      ]
     },
     "execution_count": 8,
     "metadata": {},
     "output_type": "execute_result"
    }
   ],
   "source": [
    "sp.apply(extract_MFCCfeatures, axis = 1)"
   ]
  },
  {
   "cell_type": "markdown",
   "metadata": {},
   "source": [
    "### 病理嗓音非线性特征参数（以下首先做小波包分解）"
   ]
  },
  {
   "cell_type": "code",
   "execution_count": 9,
   "metadata": {},
   "outputs": [],
   "source": [
    "import pywt\n",
    "from scipy.io import wavfile"
   ]
  },
  {
   "cell_type": "code",
   "execution_count": 10,
   "metadata": {},
   "outputs": [],
   "source": [
    "def wavelet_packet_four_level(x):\n",
    "    mother_wavelet = 'db10'\n",
    "    wp = pywt.WaveletPacket(data = x, wavelet = mother_wavelet, mode = 'symmetric', maxlevel = 4)\n",
    "    node_name_list = [node.path for node in wp.get_level(4, 'natural')]\n",
    "    rec_results = []\n",
    "    for i in node_name_list:\n",
    "        new_wp = pywt.WaveletPacket(data=np.zeros(len(x)), wavelet=mother_wavelet, mode='symmetric')\n",
    "        new_wp[i] = wp[i].data\n",
    "        x_i = new_wp.reconstruct(update=True)\n",
    "        rec_results.append(x_i)\n",
    "    output = np.array(rec_results)\n",
    "    return output"
   ]
  },
  {
   "cell_type": "markdown",
   "metadata": {},
   "source": [
    "### Hurst"
   ]
  },
  {
   "cell_type": "code",
   "execution_count": 11,
   "metadata": {},
   "outputs": [],
   "source": [
    "def Hurst(ts):\n",
    "    ts = np.array(ts)\n",
    "    N, RS, n = [], [], len(ts)\n",
    "    while (True):\n",
    "        N.append(n)\n",
    "        m = np.mean(ts)\n",
    "        mean_adj = ts - m\n",
    "        cumulative_dvi = np.cumsum(mean_adj)\n",
    "        srange = max(cumulative_dvi) - min(cumulative_dvi)\n",
    "        unbiased_std_dvi = np.std(ts)\n",
    "        RS.append(srange / unbiased_std_dvi)\n",
    "        if n < 4:\n",
    "            break\n",
    "        ts, n = HalfSeries(ts, n)\n",
    "    H = np.polyfit(np.log10(N), np.log10(RS), 1)[0]\n",
    "    return H\n",
    "\n",
    "def HalfSeries(s, n):\n",
    "    X = []\n",
    "    for i in range(0, len(s) - 1, 2):\n",
    "        X.append((s[i] + s[i + 1]) / 2)\n",
    "    # if length(s) is odd\n",
    "    if len(s) % 2 != 0:\n",
    "        X.append(s[-1])\n",
    "        n = (n - 1) // 2\n",
    "    else:\n",
    "        n = n // 2\n",
    "    return [np.array(X), n]"
   ]
  },
  {
   "cell_type": "code",
   "execution_count": 12,
   "metadata": {},
   "outputs": [
    {
     "data": {
      "text/plain": [
       "46"
      ]
     },
     "execution_count": 12,
     "metadata": {},
     "output_type": "execute_result"
    }
   ],
   "source": [
    "csvfile = open(\"feature_Hurst.csv\", \"w\")\n",
    "csvwriter = csv.writer(csvfile)\n",
    "csvwriter.writerow(np.concatenate((['Label'], [i for i in range(1, 17)])))"
   ]
  },
  {
   "cell_type": "code",
   "execution_count": 13,
   "metadata": {},
   "outputs": [],
   "source": [
    "def extract_Hurstfeatures(files):\n",
    "    Fs, data = wavfile.read('./data/'+files.File)\n",
    "    data = data/max(data)\n",
    "    data_wp = wavelet_packet_four_level(data)\n",
    "    feature = []\n",
    "    for i in range(0,16):\n",
    "        feature.append(Hurst(data_wp[i]))\n",
    "    csvwriter.writerow(np.concatenate(([digit.index(files.Label)], feature)))"
   ]
  },
  {
   "cell_type": "code",
   "execution_count": 14,
   "metadata": {},
   "outputs": [
    {
     "data": {
      "text/plain": [
       "0      None\n",
       "1      None\n",
       "2      None\n",
       "3      None\n",
       "4      None\n",
       "       ... \n",
       "322    None\n",
       "323    None\n",
       "324    None\n",
       "325    None\n",
       "326    None\n",
       "Length: 327, dtype: object"
      ]
     },
     "execution_count": 14,
     "metadata": {},
     "output_type": "execute_result"
    }
   ],
   "source": [
    "sp.apply(extract_Hurstfeatures, axis = 1)"
   ]
  },
  {
   "cell_type": "markdown",
   "metadata": {},
   "source": [
    "### Quadratic Renyi entropy"
   ]
  },
  {
   "cell_type": "code",
   "execution_count": 15,
   "metadata": {},
   "outputs": [],
   "source": [
    "def calculate_renyi_entropy(sequence,alpha=2):\n",
    "    hist, bin_edges = np.histogram(sequence, bins=100, density=True)\n",
    "    prob = hist / hist.sum()\n",
    "    prob_alpha = prob**alpha\n",
    "    H = -np.log(prob_alpha.sum())\n",
    "    return H/(alpha-1)"
   ]
  },
  {
   "cell_type": "code",
   "execution_count": 16,
   "metadata": {},
   "outputs": [
    {
     "data": {
      "text/plain": [
       "46"
      ]
     },
     "execution_count": 16,
     "metadata": {},
     "output_type": "execute_result"
    }
   ],
   "source": [
    "csvfile = open(\"feature_QR.csv\", \"w\")\n",
    "csvwriter = csv.writer(csvfile)\n",
    "csvwriter.writerow(np.concatenate((['Label'], [i for i in range(1, 17)])))"
   ]
  },
  {
   "cell_type": "code",
   "execution_count": 17,
   "metadata": {},
   "outputs": [],
   "source": [
    "def extract_QRfeatures(files):\n",
    "    Fs, data = wavfile.read('./data/'+files.File)\n",
    "    data = data/max(data)\n",
    "    data_wp = wavelet_packet_four_level(data)\n",
    "    feature = []\n",
    "    for i in range(0,16):\n",
    "        feature.append(calculate_renyi_entropy(data_wp[i]))\n",
    "    csvwriter.writerow(np.concatenate(([digit.index(files.Label)], feature)))"
   ]
  },
  {
   "cell_type": "code",
   "execution_count": 18,
   "metadata": {},
   "outputs": [
    {
     "data": {
      "text/plain": [
       "0      None\n",
       "1      None\n",
       "2      None\n",
       "3      None\n",
       "4      None\n",
       "       ... \n",
       "322    None\n",
       "323    None\n",
       "324    None\n",
       "325    None\n",
       "326    None\n",
       "Length: 327, dtype: object"
      ]
     },
     "execution_count": 18,
     "metadata": {},
     "output_type": "execute_result"
    }
   ],
   "source": [
    "sp.apply(extract_QRfeatures, axis = 1)"
   ]
  },
  {
   "cell_type": "markdown",
   "metadata": {},
   "source": [
    "### FMMI"
   ]
  },
  {
   "cell_type": "code",
   "execution_count": 19,
   "metadata": {},
   "outputs": [],
   "source": [
    "# csvfile = open(\"feature_FMMI.csv\", \"w\")\n",
    "# csvwriter = csv.writer(csvfile)\n",
    "# csvwriter.writerow(np.concatenate((['Label'], [i for i in range(1, 17)])))"
   ]
  },
  {
   "cell_type": "code",
   "execution_count": 20,
   "metadata": {},
   "outputs": [],
   "source": [
    "def extract_FMMIfeatures(files):\n",
    "    Fs, data = wavfile.read('./data/'+files.File)\n",
    "    data = data/max(data)\n",
    "    data_wp = wavelet_packet_four_level(data)\n",
    "    feature = []\n",
    "    for i in range(0,16):\n",
    "        feature.append(fmmi(data_wp[i]))\n",
    "    csvwriter.writerow(np.concatenate(([digit.index(files.Label)], feature)))"
   ]
  },
  {
   "cell_type": "code",
   "execution_count": 21,
   "metadata": {},
   "outputs": [],
   "source": [
    "# sp.apply(extract_FMMIfeatures, axis = 1)"
   ]
  },
  {
   "cell_type": "markdown",
   "metadata": {},
   "source": [
    "### Db"
   ]
  },
  {
   "cell_type": "code",
   "execution_count": 22,
   "metadata": {},
   "outputs": [
    {
     "data": {
      "text/plain": [
       "46"
      ]
     },
     "execution_count": 22,
     "metadata": {},
     "output_type": "execute_result"
    }
   ],
   "source": [
    "csvfile = open(\"feature_Db.csv\", \"w\")\n",
    "csvwriter = csv.writer(csvfile)\n",
    "csvwriter.writerow(np.concatenate((['Label'], [i for i in range(1, 17)])))"
   ]
  },
  {
   "cell_type": "code",
   "execution_count": 23,
   "metadata": {},
   "outputs": [],
   "source": [
    "import numpy as np\n",
    "\n",
    "def box_count(seq, eps):\n",
    "    \"\"\"\n",
    "    Calculates the box dimension of a continuous sequence using the box-counting method.\n",
    "    :param seq: A numpy array of float numbers representing the continuous sequence.\n",
    "    :param eps: The size of the boxes (epsilon) to use in the box-counting method.\n",
    "    :return: The calculated box dimension.\n",
    "    \"\"\"\n",
    "    N = len(seq)\n",
    "    n_boxes = 0\n",
    "    for eps in np.logspace(np.log10(eps), 0, 30):\n",
    "        n_boxes = sum(np.any(np.abs(seq[i:i+int(1/eps)]) <= eps) for i in range(0,N,int(1/eps)))\n",
    "        if n_boxes !=0:\n",
    "            break\n",
    "\n",
    "    return np.log(n_boxes) / np.log(1/eps)"
   ]
  },
  {
   "cell_type": "code",
   "execution_count": 24,
   "metadata": {},
   "outputs": [],
   "source": [
    "def extract_Dbfeatures(files):\n",
    "    Fs, data = wavfile.read('./data/'+files.File)\n",
    "    data = data/max(data)\n",
    "    data_wp = wavelet_packet_four_level(data)\n",
    "    feature = []\n",
    "    for i in range(0,16):\n",
    "        feature.append(box_count(data_wp[i], 0.01))\n",
    "    csvwriter.writerow(np.concatenate(([digit.index(files.Label)], feature)))"
   ]
  },
  {
   "cell_type": "code",
   "execution_count": 25,
   "metadata": {},
   "outputs": [
    {
     "data": {
      "text/plain": [
       "0      None\n",
       "1      None\n",
       "2      None\n",
       "3      None\n",
       "4      None\n",
       "       ... \n",
       "322    None\n",
       "323    None\n",
       "324    None\n",
       "325    None\n",
       "326    None\n",
       "Length: 327, dtype: object"
      ]
     },
     "execution_count": 25,
     "metadata": {},
     "output_type": "execute_result"
    }
   ],
   "source": [
    "sp.apply(extract_Dbfeatures, axis = 1)"
   ]
  },
  {
   "cell_type": "markdown",
   "metadata": {},
   "source": [
    "### MFCC+Hurst"
   ]
  },
  {
   "cell_type": "code",
   "execution_count": 26,
   "metadata": {},
   "outputs": [
    {
     "data": {
      "text/plain": [
       "85"
      ]
     },
     "execution_count": 26,
     "metadata": {},
     "output_type": "execute_result"
    }
   ],
   "source": [
    "csvfile = open(\"feature_MFCCHurst.csv\", \"w\")\n",
    "csvwriter = csv.writer(csvfile)\n",
    "csvwriter.writerow(np.concatenate((['Label'], [i for i in range(1, 30)])))"
   ]
  },
  {
   "cell_type": "code",
   "execution_count": 27,
   "metadata": {},
   "outputs": [],
   "source": [
    "def extract_MFCCHurstfeatures(files):\n",
    "    data, sr = librosa.load('./data/'+files.File)\n",
    "    mean_mfccs = np.mean(librosa.feature.mfcc(y = data, sr = sr, n_mfcc = 13).T, axis = 0)\n",
    "    \n",
    "    Fs, data = wavfile.read('./data/'+files.File)\n",
    "    data = data/max(data)\n",
    "    data_wp = wavelet_packet_four_level(data)\n",
    "    feature = []\n",
    "    for i in range(0,16):\n",
    "        feature.append(Hurst(data_wp[i]))\n",
    "    csvwriter.writerow(np.concatenate(([digit.index(files.Label)], mean_mfccs, feature)))"
   ]
  },
  {
   "cell_type": "code",
   "execution_count": 28,
   "metadata": {},
   "outputs": [
    {
     "data": {
      "text/plain": [
       "0      None\n",
       "1      None\n",
       "2      None\n",
       "3      None\n",
       "4      None\n",
       "       ... \n",
       "322    None\n",
       "323    None\n",
       "324    None\n",
       "325    None\n",
       "326    None\n",
       "Length: 327, dtype: object"
      ]
     },
     "execution_count": 28,
     "metadata": {},
     "output_type": "execute_result"
    }
   ],
   "source": [
    "sp.apply(extract_MFCCHurstfeatures, axis = 1)"
   ]
  },
  {
   "cell_type": "markdown",
   "metadata": {},
   "source": [
    "### MFCC+QR"
   ]
  },
  {
   "cell_type": "code",
   "execution_count": 29,
   "metadata": {},
   "outputs": [
    {
     "data": {
      "text/plain": [
       "85"
      ]
     },
     "execution_count": 29,
     "metadata": {},
     "output_type": "execute_result"
    }
   ],
   "source": [
    "csvfile = open(\"feature_MFCCQR.csv\", \"w\")\n",
    "csvwriter = csv.writer(csvfile)\n",
    "csvwriter.writerow(np.concatenate((['Label'], [i for i in range(1, 30)])))"
   ]
  },
  {
   "cell_type": "code",
   "execution_count": 30,
   "metadata": {},
   "outputs": [],
   "source": [
    "def extract_MFCCQRfeatures(files):\n",
    "    data, sr = librosa.load('./data/'+files.File)\n",
    "    mean_mfccs = np.mean(librosa.feature.mfcc(y = data, sr = sr, n_mfcc = 13).T, axis = 0)\n",
    "    \n",
    "    Fs, data = wavfile.read('./data/'+files.File)\n",
    "    data = data/max(data)\n",
    "    data_wp = wavelet_packet_four_level(data)\n",
    "    feature = []\n",
    "    for i in range(0,16):\n",
    "        feature.append(calculate_renyi_entropy(data_wp[i]))\n",
    "    csvwriter.writerow(np.concatenate(([digit.index(files.Label)], mean_mfccs, feature)))"
   ]
  },
  {
   "cell_type": "code",
   "execution_count": 31,
   "metadata": {},
   "outputs": [
    {
     "data": {
      "text/plain": [
       "0      None\n",
       "1      None\n",
       "2      None\n",
       "3      None\n",
       "4      None\n",
       "       ... \n",
       "322    None\n",
       "323    None\n",
       "324    None\n",
       "325    None\n",
       "326    None\n",
       "Length: 327, dtype: object"
      ]
     },
     "execution_count": 31,
     "metadata": {},
     "output_type": "execute_result"
    }
   ],
   "source": [
    "sp.apply(extract_MFCCQRfeatures, axis = 1)"
   ]
  },
  {
   "cell_type": "markdown",
   "metadata": {},
   "source": [
    "### Hurst+QR"
   ]
  },
  {
   "cell_type": "code",
   "execution_count": 32,
   "metadata": {},
   "outputs": [
    {
     "data": {
      "text/plain": [
       "94"
      ]
     },
     "execution_count": 32,
     "metadata": {},
     "output_type": "execute_result"
    }
   ],
   "source": [
    "csvfile = open(\"feature_HurstQR.csv\", \"w\")\n",
    "csvwriter = csv.writer(csvfile)\n",
    "csvwriter.writerow(np.concatenate((['Label'], [i for i in range(1, 33)])))"
   ]
  },
  {
   "cell_type": "code",
   "execution_count": 33,
   "metadata": {},
   "outputs": [],
   "source": [
    "def extract_HurstQRfeatures(files):\n",
    "    Fs, data = wavfile.read('./data/'+files.File)\n",
    "    data = data/max(data)\n",
    "    data_wp = wavelet_packet_four_level(data)\n",
    "    feature = []\n",
    "    for i in range(0,16):\n",
    "        feature.append(Hurst(data_wp[i]))\n",
    "    for i in range(0,16):\n",
    "        feature.append(calculate_renyi_entropy(data_wp[i]))\n",
    "    csvwriter.writerow(np.concatenate(([digit.index(files.Label)], feature)))"
   ]
  },
  {
   "cell_type": "code",
   "execution_count": 34,
   "metadata": {},
   "outputs": [
    {
     "data": {
      "text/plain": [
       "0      None\n",
       "1      None\n",
       "2      None\n",
       "3      None\n",
       "4      None\n",
       "       ... \n",
       "322    None\n",
       "323    None\n",
       "324    None\n",
       "325    None\n",
       "326    None\n",
       "Length: 327, dtype: object"
      ]
     },
     "execution_count": 34,
     "metadata": {},
     "output_type": "execute_result"
    }
   ],
   "source": [
    "sp.apply(extract_HurstQRfeatures, axis = 1)"
   ]
  },
  {
   "cell_type": "markdown",
   "metadata": {},
   "source": [
    "### MFCC+Hurst+QR"
   ]
  },
  {
   "cell_type": "code",
   "execution_count": 35,
   "metadata": {},
   "outputs": [
    {
     "data": {
      "text/plain": [
       "133"
      ]
     },
     "execution_count": 35,
     "metadata": {},
     "output_type": "execute_result"
    }
   ],
   "source": [
    "csvfile = open(\"feature_MFCCHurstQR.csv\", \"w\")\n",
    "csvwriter = csv.writer(csvfile)\n",
    "csvwriter.writerow(np.concatenate((['Label'], [i for i in range(1, 46)])))"
   ]
  },
  {
   "cell_type": "code",
   "execution_count": 36,
   "metadata": {},
   "outputs": [],
   "source": [
    "def extract_MFCCHurstQRfeatures(files):\n",
    "    data, sr = librosa.load('./data/'+files.File)\n",
    "    mean_mfccs = np.mean(librosa.feature.mfcc(y = data, sr = sr, n_mfcc = 13).T, axis = 0)\n",
    "    \n",
    "    Fs, data = wavfile.read('./data/'+files.File)\n",
    "    data = data/max(data)\n",
    "    data_wp = wavelet_packet_four_level(data)\n",
    "    feature = []\n",
    "    for i in range(0,16):\n",
    "        feature.append(Hurst(data_wp[i]))\n",
    "    for i in range(0,16):\n",
    "        feature.append(calculate_renyi_entropy(data_wp[i]))\n",
    "    csvwriter.writerow(np.concatenate(([digit.index(files.Label)], mean_mfccs, feature)))"
   ]
  },
  {
   "cell_type": "code",
   "execution_count": 37,
   "metadata": {},
   "outputs": [
    {
     "data": {
      "text/plain": [
       "0      None\n",
       "1      None\n",
       "2      None\n",
       "3      None\n",
       "4      None\n",
       "       ... \n",
       "322    None\n",
       "323    None\n",
       "324    None\n",
       "325    None\n",
       "326    None\n",
       "Length: 327, dtype: object"
      ]
     },
     "execution_count": 37,
     "metadata": {},
     "output_type": "execute_result"
    }
   ],
   "source": [
    "sp.apply(extract_MFCCHurstQRfeatures, axis = 1)"
   ]
  },
  {
   "cell_type": "markdown",
   "metadata": {},
   "source": [
    "### MFCC+Hurst+QR+Db"
   ]
  },
  {
   "cell_type": "code",
   "execution_count": 38,
   "metadata": {},
   "outputs": [
    {
     "data": {
      "text/plain": [
       "181"
      ]
     },
     "execution_count": 38,
     "metadata": {},
     "output_type": "execute_result"
    }
   ],
   "source": [
    "csvfile = open(\"feature_MFCCHurstQRDb.csv\", \"w\")\n",
    "csvwriter = csv.writer(csvfile)\n",
    "csvwriter.writerow(np.concatenate((['Label'], [i for i in range(1, 62)])))"
   ]
  },
  {
   "cell_type": "code",
   "execution_count": 39,
   "metadata": {},
   "outputs": [],
   "source": [
    "def extract_MFCCHurstQRDbfeatures(files):\n",
    "    data, sr = librosa.load('./data/'+files.File)\n",
    "    mean_mfccs = np.mean(librosa.feature.mfcc(y = data, sr = sr, n_mfcc = 13).T, axis = 0)\n",
    "    \n",
    "    Fs, data = wavfile.read('./data/'+files.File)\n",
    "    data = data/max(data)\n",
    "    data_wp = wavelet_packet_four_level(data)\n",
    "    feature = []\n",
    "    for i in range(0,16):\n",
    "        feature.append(Hurst(data_wp[i]))\n",
    "    for i in range(0,16):\n",
    "        feature.append(calculate_renyi_entropy(data_wp[i]))\n",
    "    for i in range(0,16):\n",
    "        feature.append(box_count(data_wp[i], 0.01))\n",
    "    csvwriter.writerow(np.concatenate(([digit.index(files.Label)], mean_mfccs, feature)))"
   ]
  },
  {
   "cell_type": "code",
   "execution_count": 40,
   "metadata": {},
   "outputs": [
    {
     "data": {
      "text/plain": [
       "0      None\n",
       "1      None\n",
       "2      None\n",
       "3      None\n",
       "4      None\n",
       "       ... \n",
       "322    None\n",
       "323    None\n",
       "324    None\n",
       "325    None\n",
       "326    None\n",
       "Length: 327, dtype: object"
      ]
     },
     "execution_count": 40,
     "metadata": {},
     "output_type": "execute_result"
    }
   ],
   "source": [
    "sp.apply(extract_MFCCHurstQRDbfeatures, axis = 1)"
   ]
  },
  {
   "cell_type": "markdown",
   "metadata": {},
   "source": [
    "### MFCC+Hurst+Db"
   ]
  },
  {
   "cell_type": "code",
   "execution_count": 41,
   "metadata": {},
   "outputs": [
    {
     "data": {
      "text/plain": [
       "133"
      ]
     },
     "execution_count": 41,
     "metadata": {},
     "output_type": "execute_result"
    }
   ],
   "source": [
    "csvfile = open(\"feature_MFCCHurstDb.csv\", \"w\")\n",
    "csvwriter = csv.writer(csvfile)\n",
    "csvwriter.writerow(np.concatenate((['Label'], [i for i in range(1, 46)])))"
   ]
  },
  {
   "cell_type": "code",
   "execution_count": 42,
   "metadata": {},
   "outputs": [],
   "source": [
    "def extract_MFCCHurstDbfeatures(files):\n",
    "    data, sr = librosa.load('./data/'+files.File)\n",
    "    mean_mfccs = np.mean(librosa.feature.mfcc(y = data, sr = sr, n_mfcc = 13).T, axis = 0)\n",
    "    \n",
    "    Fs, data = wavfile.read('./data/'+files.File)\n",
    "    data = data/max(data)\n",
    "    data_wp = wavelet_packet_four_level(data)\n",
    "    feature = []\n",
    "    for i in range(0,16):\n",
    "        feature.append(Hurst(data_wp[i]))\n",
    "    for i in range(0,16):\n",
    "        feature.append(box_count(data_wp[i], 0.01))\n",
    "    csvwriter.writerow(np.concatenate(([digit.index(files.Label)], mean_mfccs, feature)))"
   ]
  },
  {
   "cell_type": "code",
   "execution_count": 43,
   "metadata": {},
   "outputs": [
    {
     "data": {
      "text/plain": [
       "0      None\n",
       "1      None\n",
       "2      None\n",
       "3      None\n",
       "4      None\n",
       "       ... \n",
       "322    None\n",
       "323    None\n",
       "324    None\n",
       "325    None\n",
       "326    None\n",
       "Length: 327, dtype: object"
      ]
     },
     "execution_count": 43,
     "metadata": {},
     "output_type": "execute_result"
    }
   ],
   "source": [
    "sp.apply(extract_MFCCHurstDbfeatures, axis = 1)"
   ]
  },
  {
   "cell_type": "markdown",
   "metadata": {},
   "source": [
    "### MFCC+QR+Db"
   ]
  },
  {
   "cell_type": "code",
   "execution_count": 44,
   "metadata": {},
   "outputs": [
    {
     "data": {
      "text/plain": [
       "133"
      ]
     },
     "execution_count": 44,
     "metadata": {},
     "output_type": "execute_result"
    }
   ],
   "source": [
    "csvfile = open(\"feature_MFCCQRDb.csv\", \"w\")\n",
    "csvwriter = csv.writer(csvfile)\n",
    "csvwriter.writerow(np.concatenate((['Label'], [i for i in range(1, 46)])))"
   ]
  },
  {
   "cell_type": "code",
   "execution_count": 45,
   "metadata": {},
   "outputs": [],
   "source": [
    "def extract_MFCCQRDbfeatures(files):\n",
    "    data, sr = librosa.load('./data/'+files.File)\n",
    "    mean_mfccs = np.mean(librosa.feature.mfcc(y = data, sr = sr, n_mfcc = 13).T, axis = 0)\n",
    "    \n",
    "    Fs, data = wavfile.read('./data/'+files.File)\n",
    "    data = data/max(data)\n",
    "    data_wp = wavelet_packet_four_level(data)\n",
    "    feature = []\n",
    "    for i in range(0,16):\n",
    "        feature.append(calculate_renyi_entropy(data_wp[i]))\n",
    "    for i in range(0,16):\n",
    "        feature.append(box_count(data_wp[i], 0.01))\n",
    "    csvwriter.writerow(np.concatenate(([digit.index(files.Label)], mean_mfccs, feature)))"
   ]
  },
  {
   "cell_type": "code",
   "execution_count": 46,
   "metadata": {},
   "outputs": [
    {
     "data": {
      "text/plain": [
       "0      None\n",
       "1      None\n",
       "2      None\n",
       "3      None\n",
       "4      None\n",
       "       ... \n",
       "322    None\n",
       "323    None\n",
       "324    None\n",
       "325    None\n",
       "326    None\n",
       "Length: 327, dtype: object"
      ]
     },
     "execution_count": 46,
     "metadata": {},
     "output_type": "execute_result"
    }
   ],
   "source": [
    "sp.apply(extract_MFCCQRDbfeatures, axis = 1)"
   ]
  }
 ],
 "metadata": {
  "colab": {
   "authorship_tag": "ABX9TyPLlLBpmOmI2ZPWbrAw5VJg",
   "collapsed_sections": [
    "1HPmkNS36wEv",
    "Io-WhKnHUh6P"
   ],
   "include_colab_link": true,
   "name": "Spokendigit feature extraction.ipynb",
   "provenance": []
  },
  "kernelspec": {
   "display_name": "Python (myenvironment)",
   "language": "python",
   "name": "myenvironment"
  },
  "language_info": {
   "codemirror_mode": {
    "name": "ipython",
    "version": 3
   },
   "file_extension": ".py",
   "mimetype": "text/x-python",
   "name": "python",
   "nbconvert_exporter": "python",
   "pygments_lexer": "ipython3",
   "version": "3.8.14"
  },
  "widgets": {
   "application/vnd.jupyter.widget-state+json": {
    "42b0d2f8e513485f8d6bee85fd68692e": {
     "model_module": "@jupyter-widgets/base",
     "model_name": "LayoutModel",
     "state": {
      "_model_module": "@jupyter-widgets/base",
      "_model_module_version": "1.2.0",
      "_model_name": "LayoutModel",
      "_view_count": null,
      "_view_module": "@jupyter-widgets/base",
      "_view_module_version": "1.2.0",
      "_view_name": "LayoutView",
      "align_content": null,
      "align_items": null,
      "align_self": null,
      "border": null,
      "bottom": null,
      "display": null,
      "flex": null,
      "flex_flow": null,
      "grid_area": null,
      "grid_auto_columns": null,
      "grid_auto_flow": null,
      "grid_auto_rows": null,
      "grid_column": null,
      "grid_gap": null,
      "grid_row": null,
      "grid_template_areas": null,
      "grid_template_columns": null,
      "grid_template_rows": null,
      "height": null,
      "justify_content": null,
      "justify_items": null,
      "left": null,
      "margin": null,
      "max_height": null,
      "max_width": null,
      "min_height": null,
      "min_width": null,
      "object_fit": null,
      "object_position": null,
      "order": null,
      "overflow": null,
      "overflow_x": null,
      "overflow_y": null,
      "padding": null,
      "right": null,
      "top": null,
      "visibility": null,
      "width": null
     }
    },
    "463e8869a98446b5b89f9d969f395b0a": {
     "model_module": "@jupyter-widgets/controls",
     "model_name": "HBoxModel",
     "state": {
      "_dom_classes": [],
      "_model_module": "@jupyter-widgets/controls",
      "_model_module_version": "1.5.0",
      "_model_name": "HBoxModel",
      "_view_count": null,
      "_view_module": "@jupyter-widgets/controls",
      "_view_module_version": "1.5.0",
      "_view_name": "HBoxView",
      "box_style": "",
      "children": [
       "IPY_MODEL_5db4dbaf04504fcaa49ac37918516fee",
       "IPY_MODEL_613e9db7fc6a4c4cbb56f698ea44d0eb"
      ],
      "layout": "IPY_MODEL_c8fc4f01e8284c47a35660c74f6b79ad"
     }
    },
    "5db4dbaf04504fcaa49ac37918516fee": {
     "model_module": "@jupyter-widgets/controls",
     "model_name": "FloatProgressModel",
     "state": {
      "_dom_classes": [],
      "_model_module": "@jupyter-widgets/controls",
      "_model_module_version": "1.5.0",
      "_model_name": "FloatProgressModel",
      "_view_count": null,
      "_view_module": "@jupyter-widgets/controls",
      "_view_module_version": "1.5.0",
      "_view_name": "ProgressView",
      "bar_style": "info",
      "description": "",
      "description_tooltip": null,
      "layout": "IPY_MODEL_42b0d2f8e513485f8d6bee85fd68692e",
      "max": 1,
      "min": 0,
      "orientation": "horizontal",
      "style": "IPY_MODEL_d1ce580ae5d7495e9ffe1cc243f02cbb",
      "value": 1
     }
    },
    "613e9db7fc6a4c4cbb56f698ea44d0eb": {
     "model_module": "@jupyter-widgets/controls",
     "model_name": "HTMLModel",
     "state": {
      "_dom_classes": [],
      "_model_module": "@jupyter-widgets/controls",
      "_model_module_version": "1.5.0",
      "_model_name": "HTMLModel",
      "_view_count": null,
      "_view_module": "@jupyter-widgets/controls",
      "_view_module_version": "1.5.0",
      "_view_name": "HTMLView",
      "description": "",
      "description_tooltip": null,
      "layout": "IPY_MODEL_fa80d9c23c754e1abbfdebcd6e3744be",
      "placeholder": "​",
      "style": "IPY_MODEL_eab92e50ed314be689e3ccde86edd049",
      "value": " 1489100800/? [00:40&lt;00:00, 63127219.07it/s]"
     }
    },
    "c8fc4f01e8284c47a35660c74f6b79ad": {
     "model_module": "@jupyter-widgets/base",
     "model_name": "LayoutModel",
     "state": {
      "_model_module": "@jupyter-widgets/base",
      "_model_module_version": "1.2.0",
      "_model_name": "LayoutModel",
      "_view_count": null,
      "_view_module": "@jupyter-widgets/base",
      "_view_module_version": "1.2.0",
      "_view_name": "LayoutView",
      "align_content": null,
      "align_items": null,
      "align_self": null,
      "border": null,
      "bottom": null,
      "display": null,
      "flex": null,
      "flex_flow": null,
      "grid_area": null,
      "grid_auto_columns": null,
      "grid_auto_flow": null,
      "grid_auto_rows": null,
      "grid_column": null,
      "grid_gap": null,
      "grid_row": null,
      "grid_template_areas": null,
      "grid_template_columns": null,
      "grid_template_rows": null,
      "height": null,
      "justify_content": null,
      "justify_items": null,
      "left": null,
      "margin": null,
      "max_height": null,
      "max_width": null,
      "min_height": null,
      "min_width": null,
      "object_fit": null,
      "object_position": null,
      "order": null,
      "overflow": null,
      "overflow_x": null,
      "overflow_y": null,
      "padding": null,
      "right": null,
      "top": null,
      "visibility": null,
      "width": null
     }
    },
    "d1ce580ae5d7495e9ffe1cc243f02cbb": {
     "model_module": "@jupyter-widgets/controls",
     "model_name": "ProgressStyleModel",
     "state": {
      "_model_module": "@jupyter-widgets/controls",
      "_model_module_version": "1.5.0",
      "_model_name": "ProgressStyleModel",
      "_view_count": null,
      "_view_module": "@jupyter-widgets/base",
      "_view_module_version": "1.2.0",
      "_view_name": "StyleView",
      "bar_color": null,
      "description_width": "initial"
     }
    },
    "eab92e50ed314be689e3ccde86edd049": {
     "model_module": "@jupyter-widgets/controls",
     "model_name": "DescriptionStyleModel",
     "state": {
      "_model_module": "@jupyter-widgets/controls",
      "_model_module_version": "1.5.0",
      "_model_name": "DescriptionStyleModel",
      "_view_count": null,
      "_view_module": "@jupyter-widgets/base",
      "_view_module_version": "1.2.0",
      "_view_name": "StyleView",
      "description_width": ""
     }
    },
    "fa80d9c23c754e1abbfdebcd6e3744be": {
     "model_module": "@jupyter-widgets/base",
     "model_name": "LayoutModel",
     "state": {
      "_model_module": "@jupyter-widgets/base",
      "_model_module_version": "1.2.0",
      "_model_name": "LayoutModel",
      "_view_count": null,
      "_view_module": "@jupyter-widgets/base",
      "_view_module_version": "1.2.0",
      "_view_name": "LayoutView",
      "align_content": null,
      "align_items": null,
      "align_self": null,
      "border": null,
      "bottom": null,
      "display": null,
      "flex": null,
      "flex_flow": null,
      "grid_area": null,
      "grid_auto_columns": null,
      "grid_auto_flow": null,
      "grid_auto_rows": null,
      "grid_column": null,
      "grid_gap": null,
      "grid_row": null,
      "grid_template_areas": null,
      "grid_template_columns": null,
      "grid_template_rows": null,
      "height": null,
      "justify_content": null,
      "justify_items": null,
      "left": null,
      "margin": null,
      "max_height": null,
      "max_width": null,
      "min_height": null,
      "min_width": null,
      "object_fit": null,
      "object_position": null,
      "order": null,
      "overflow": null,
      "overflow_x": null,
      "overflow_y": null,
      "padding": null,
      "right": null,
      "top": null,
      "visibility": null,
      "width": null
     }
    }
   }
  }
 },
 "nbformat": 4,
 "nbformat_minor": 1
}
